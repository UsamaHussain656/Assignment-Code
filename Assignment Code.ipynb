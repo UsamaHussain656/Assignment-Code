{
 "cells": [
  {
   "cell_type": "code",
   "execution_count": 1,
   "metadata": {},
   "outputs": [],
   "source": [
    "#Area of the circle"
   ]
  },
  {
   "cell_type": "code",
   "execution_count": 5,
   "metadata": {},
   "outputs": [
    {
     "name": "stdout",
     "output_type": "stream",
     "text": [
      "Enter Radius0.5\n",
      "Area of the circle with radius : 0.79\n"
     ]
    }
   ],
   "source": [
    "import math\n",
    "r = float(input(\"Enter Radius\"))\n",
    "area = math.pi*r*r\n",
    "\n",
    "print(f\"Area of the circle with radius : %.2f\" %area)"
   ]
  },
  {
   "cell_type": "code",
   "execution_count": null,
   "metadata": {},
   "outputs": [],
   "source": [
    "#checking either the number is positive or negative"
   ]
  },
  {
   "cell_type": "code",
   "execution_count": 12,
   "metadata": {},
   "outputs": [
    {
     "name": "stdout",
     "output_type": "stream",
     "text": [
      "Enter number0\n",
      "This is a positive number\n"
     ]
    }
   ],
   "source": [
    "n = int(input(\"Enter number\"))\n",
    "if n>=0:\n",
    "    print(\"This is a positive number\")\n",
    "elif n<0:\n",
    "    print(\"This is a negative number\")"
   ]
  },
  {
   "cell_type": "code",
   "execution_count": 20,
   "metadata": {},
   "outputs": [
    {
     "name": "stdout",
     "output_type": "stream",
     "text": [
      "Enter Numerator4\n",
      "Enter Denominator2\n",
      "number4 is fully divisible by 2\n"
     ]
    }
   ],
   "source": [
    "nu = int(input(\"Enter Numerator\"))\n",
    "du = int(input(\"Enter Denominator\"))\n",
    "ans = nu%du\n",
    "if ans == 0:\n",
    "     print(f\"number{nu} is fully divisible by {du}\")\n",
    "else:\n",
    "    print(f\"number{nu} is not fully divisible by {du}\")\n",
    "    \n",
    "   "
   ]
  },
  {
   "cell_type": "code",
   "execution_count": 21,
   "metadata": {},
   "outputs": [
    {
     "name": "stdout",
     "output_type": "stream",
     "text": [
      "Enter Numerator7\n",
      "Enter Denominator2\n",
      "number7 is not fully divisible by 2\n"
     ]
    }
   ],
   "source": [
    "nu = int(input(\"Enter Numerator\"))\n",
    "du = int(input(\"Enter Denominator\"))\n",
    "ans = nu%du\n",
    "if ans == 0:\n",
    "     print(f\"number{nu} is fully divisible by {du}\")\n",
    "else:\n",
    "    print(f\"number{nu} is not fully divisible by {du}\")"
   ]
  },
  {
   "cell_type": "code",
   "execution_count": 22,
   "metadata": {},
   "outputs": [],
   "source": [
    "#days calculator"
   ]
  },
  {
   "cell_type": "code",
   "execution_count": 26,
   "metadata": {},
   "outputs": [
    {
     "name": "stdout",
     "output_type": "stream",
     "text": [
      "Enter a date in DD/MM/YY format: 2018/12/12\n",
      "2018-12-12\n"
     ]
    }
   ],
   "source": [
    "import datetime\n",
    "\n",
    "date_entry = input('Enter a date in DD/MM/YY format: ')\n",
    "day, month, year = map(int, date_entry.split('/'))\n",
    "date1 = datetime.date(day, month, year)\n",
    "print(date1)"
   ]
  },
  {
   "cell_type": "code",
   "execution_count": null,
   "metadata": {},
   "outputs": [],
   "source": [
    "#volume of sphere"
   ]
  },
  {
   "cell_type": "code",
   "execution_count": 7,
   "metadata": {},
   "outputs": [
    {
     "name": "stdout",
     "output_type": "stream",
     "text": [
      "Enter radius: 1\n",
      "Volume of the sphere with radius : 1 is  4.1866666666666665\n"
     ]
    }
   ],
   "source": [
    "radius = int(input(\"Enter radius: \"))\n",
    "Volume = (4/3) * (3.14 * radius ** 3)\n",
    "print(f\"Volume of the sphere with radius : {radius} is \" ,Volume)"
   ]
  },
  {
   "cell_type": "code",
   "execution_count": null,
   "metadata": {},
   "outputs": [],
   "source": [
    "#copy string n times"
   ]
  },
  {
   "cell_type": "code",
   "execution_count": 13,
   "metadata": {},
   "outputs": [
    {
     "name": "stdout",
     "output_type": "stream",
     "text": [
      "Enter your stringUsama\n",
      "How many copies needed : 5\n",
      "5 copies are needed of stringUsama\n",
      "Usama\n",
      "Usama\n",
      "Usama\n",
      "Usama\n",
      "Usama\n"
     ]
    }
   ],
   "source": [
    "string = input(\"Enter your string\")\n",
    "n = int(input(\"How many copies needed : \"))\n",
    "print(f\"{n} copies are needed of string{string}\")\n",
    "for i in range(0,n):\n",
    "      print(string)"
   ]
  },
  {
   "cell_type": "code",
   "execution_count": null,
   "metadata": {},
   "outputs": [],
   "source": [
    "#check if number is even or odd"
   ]
  },
  {
   "cell_type": "code",
   "execution_count": 16,
   "metadata": {},
   "outputs": [
    {
     "name": "stdout",
     "output_type": "stream",
     "text": [
      "Enter Number : 4\n",
      "This is a even number\n"
     ]
    }
   ],
   "source": [
    "n =int(input(\"Enter Number : \"))\n",
    "if n%2==0:\n",
    "    print(\"This is a even number\")\n",
    "else:\n",
    "    print(\"This is a Odd number\")"
   ]
  },
  {
   "cell_type": "code",
   "execution_count": 17,
   "metadata": {},
   "outputs": [
    {
     "name": "stdout",
     "output_type": "stream",
     "text": [
      "Enter Number : 9\n",
      "This is a Odd number\n"
     ]
    }
   ],
   "source": [
    "n =int(input(\"Enter Number : \"))\n",
    "if n%2==0:\n",
    "    print(\"This is a even number\")\n",
    "else:\n",
    "    print(\"This is a Odd number\")"
   ]
  },
  {
   "cell_type": "code",
   "execution_count": null,
   "metadata": {},
   "outputs": [],
   "source": [
    "#check if the char is vowel or not"
   ]
  },
  {
   "cell_type": "code",
   "execution_count": 20,
   "metadata": {},
   "outputs": [
    {
     "name": "stdout",
     "output_type": "stream",
     "text": [
      "Enter alphabetA\n",
      "This is a vowel\n"
     ]
    }
   ],
   "source": [
    "v = input(\"Enter alphabet\")\n",
    "if v == \"A\" or v == \"a\" or v == \"E\" or v == \"e\" or v == \"I\" or v == \"i\" or v == \"O\" or v == \"o\" or v == \"U\" or v == \"u\":\n",
    "    print(\"This is a vowel\")\n",
    "else:\n",
    "    print(\"Tihs is not a vowel\")"
   ]
  },
  {
   "cell_type": "code",
   "execution_count": 21,
   "metadata": {},
   "outputs": [
    {
     "name": "stdout",
     "output_type": "stream",
     "text": [
      "Enter alphabete\n",
      "This is a vowel\n"
     ]
    }
   ],
   "source": [
    "v = input(\"Enter alphabet\")\n",
    "if v == \"A\" or v == \"a\" or v == \"E\" or v == \"e\" or v == \"I\" or v == \"i\" or v == \"O\" or v == \"o\" or v == \"U\" or v == \"u\":\n",
    "    print(\"This is a vowel\")\n",
    "else:\n",
    "    print(\"Tihs is not a vowel\")"
   ]
  },
  {
   "cell_type": "code",
   "execution_count": 22,
   "metadata": {},
   "outputs": [
    {
     "name": "stdout",
     "output_type": "stream",
     "text": [
      "Enter alphabetp\n",
      "Tihs is not a vowel\n"
     ]
    }
   ],
   "source": [
    "v = input(\"Enter alphabet\")\n",
    "if v == \"A\" or v == \"a\" or v == \"E\" or v == \"e\" or v == \"I\" or v == \"i\" or v == \"O\" or v == \"o\" or v == \"U\" or v == \"u\":\n",
    "    print(\"This is a vowel\")\n",
    "else:\n",
    "    print(\"Tihs is not a vowel\")"
   ]
  },
  {
   "cell_type": "code",
   "execution_count": null,
   "metadata": {},
   "outputs": [],
   "source": [
    "#Triangle area"
   ]
  },
  {
   "cell_type": "code",
   "execution_count": 23,
   "metadata": {},
   "outputs": [
    {
     "name": "stdout",
     "output_type": "stream",
     "text": [
      "Enter the magnitude of base4\n",
      "Enter the magnitude of height4\n",
      "Area of the triangle with base4 and height4 is  8.0\n"
     ]
    }
   ],
   "source": [
    "B = int(input(\"Enter the magnitude of base\"))\n",
    "H = int(input(\"Enter the magnitude of height\"))\n",
    "Area = (B*H)/2\n",
    "print(f\"Area of the triangle with base{B} and height{H} is \",Area)"
   ]
  },
  {
   "cell_type": "code",
   "execution_count": 24,
   "metadata": {},
   "outputs": [],
   "source": [
    "#calculate interest"
   ]
  },
  {
   "cell_type": "code",
   "execution_count": 8,
   "metadata": {},
   "outputs": [
    {
     "name": "stdout",
     "output_type": "stream",
     "text": [
      "Enter the principal amount : 100000\n",
      "Enter the rate of interest in % : 3.25\n",
      "Enter the num of years : 5\n",
      "After 5 years your principal amount 100000.0 over an interest rate 3.25 will be  {16250.0}\n"
     ]
    }
   ],
   "source": [
    "principal = float(input(\"Enter the principal amount : \"))\n",
    "interest = float(input(\"Enter the rate of interest in % : \"))\n",
    "years = int(input(\"Enter the num of years : \"))\n",
    "interest_rate = (principal*interest*years)/100\n",
    "print(f\"After {years} years your principal amount {principal} over an interest rate {interest} will be \",{interest_rate})"
   ]
  },
  {
   "cell_type": "code",
   "execution_count": 9,
   "metadata": {},
   "outputs": [],
   "source": [
    "#Euclidean Distance"
   ]
  },
  {
   "cell_type": "code",
   "execution_count": 14,
   "metadata": {},
   "outputs": [
    {
     "name": "stdout",
     "output_type": "stream",
     "text": [
      "Enter X1 : 2\n",
      "Enter X2 : 4\n",
      "Enter Y1 : 4\n",
      "Enter Y2 : 4\n",
      "Distance between points (2, 4) and (4, 4) are: 2.0\n"
     ]
    }
   ],
   "source": [
    "import math\n",
    "X1 = int(input(\"Enter X1 : \"))\n",
    "X2 = int(input(\"Enter X2 : \"))\n",
    "Y1 = int(input(\"Enter Y1 : \"))\n",
    "Y2 = int(input(\"Enter Y2 : \"))\n",
    "Dis = math.sqrt((X2-X1)**2 + (Y2-Y1)**2)\n",
    "print(f\"Distance between points {X1,X2} and {Y1,Y2} are: \" + str(Dis))\n"
   ]
  },
  {
   "cell_type": "code",
   "execution_count": null,
   "metadata": {},
   "outputs": [],
   "source": [
    "#convert feet in cm"
   ]
  },
  {
   "cell_type": "code",
   "execution_count": 16,
   "metadata": {},
   "outputs": [
    {
     "name": "stdout",
     "output_type": "stream",
     "text": [
      "Enter height in feets : 5\n",
      "There are 152.4 cm in 5 feet\n"
     ]
    }
   ],
   "source": [
    "H = int(input(\"Enter height in feets : \"))\n",
    "cm = H*30.48\n",
    "print(f\"There are {cm} cm in {H} feet\")"
   ]
  },
  {
   "cell_type": "code",
   "execution_count": null,
   "metadata": {},
   "outputs": [],
   "source": [
    "#BMI calculator"
   ]
  },
  {
   "cell_type": "code",
   "execution_count": 1,
   "metadata": {},
   "outputs": [
    {
     "name": "stdout",
     "output_type": "stream",
     "text": [
      "Enter Height in Cm: 180\n",
      "Enter Weight in Kg: 75\n",
      "Your BMI is 23.148148148148152\n"
     ]
    }
   ],
   "source": [
    "height= int(input(\"Enter Height in Cm: \"))\n",
    "weight = int(input(\"Enter Weight in Kg: \"))\n",
    "bmi = (weight/height/height)*10000\n",
    "print(f\"Your BMI is {bmi}\")"
   ]
  },
  {
   "cell_type": "code",
   "execution_count": null,
   "metadata": {},
   "outputs": [],
   "source": [
    "#sum of n positive integers"
   ]
  },
  {
   "cell_type": "code",
   "execution_count": 2,
   "metadata": {},
   "outputs": [
    {
     "name": "stdout",
     "output_type": "stream",
     "text": [
      "Enter value of n: 5\n",
      "Sum of n positive number till 5 is 15.0\n"
     ]
    }
   ],
   "source": [
    "n = int(input(\"Enter value of n: \"))\n",
    "total = n * (n+1) / 2\n",
    "print(f\"Sum of n positive number till {n} is\",total)"
   ]
  },
  {
   "cell_type": "code",
   "execution_count": null,
   "metadata": {},
   "outputs": [],
   "source": [
    "#Digit sum of number"
   ]
  },
  {
   "cell_type": "code",
   "execution_count": 3,
   "metadata": {},
   "outputs": [
    {
     "name": "stdout",
     "output_type": "stream",
     "text": [
      "Enter a Number: 15\n",
      "Sum of numbers = 6\n"
     ]
    }
   ],
   "source": [
    "Number = int(input(\"Enter a Number: \"))\n",
    "Sum = 0\n",
    "while(Number > 0):\n",
    "    Reminder = Number % 10\n",
    "    Sum = Sum + Reminder\n",
    "    Number = Number //10\n",
    "\n",
    "print(\"Sum of numbers = %d\" %Sum)"
   ]
  },
  {
   "cell_type": "code",
   "execution_count": 4,
   "metadata": {},
   "outputs": [
    {
     "name": "stdout",
     "output_type": "stream",
     "text": [
      "Enter a Number: 1234\n",
      "Sum of numbers = 10\n"
     ]
    }
   ],
   "source": [
    "\n",
    "Number = int(input(\"Enter a Number: \"))\n",
    "Sum = 0\n",
    "while(Number > 0):\n",
    "    Reminder = Number % 10\n",
    "    Sum = Sum + Reminder\n",
    "    Number = Number //10\n",
    "\n",
    "print(\"Sum of numbers = %d\" %Sum)"
   ]
  },
  {
   "cell_type": "code",
   "execution_count": null,
   "metadata": {},
   "outputs": [],
   "source": [
    "#decimal to binary"
   ]
  },
  {
   "cell_type": "code",
   "execution_count": 6,
   "metadata": {},
   "outputs": [
    {
     "name": "stdout",
     "output_type": "stream",
     "text": [
      "Enter a decimal Number: 5\n",
      "Binary representation of 5 is 101\n"
     ]
    }
   ],
   "source": [
    "decimal = int(input(\"Enter a decimal Number: \"))\n",
    "binary = bin(decimal).replace(\"0b\", \"\")  \n",
    "print(f\"Binary representation of {decimal} is {binary}\")"
   ]
  },
  {
   "cell_type": "code",
   "execution_count": 10,
   "metadata": {},
   "outputs": [
    {
     "name": "stdout",
     "output_type": "stream",
     "text": [
      "Enter a decimal Number: 32\n",
      "Binary representation of 32 is 100000\n"
     ]
    }
   ],
   "source": [
    "decimal = int(input(\"Enter a decimal Number: \"))\n",
    "binary = bin(decimal).replace(\"0b\",\"\")  \n",
    "print(f\"Binary representation of {decimal} is {binary}\")"
   ]
  },
  {
   "cell_type": "code",
   "execution_count": null,
   "metadata": {},
   "outputs": [],
   "source": [
    "#vowel and consonents counter"
   ]
  },
  {
   "cell_type": "code",
   "execution_count": 12,
   "metadata": {},
   "outputs": [
    {
     "name": "stdout",
     "output_type": "stream",
     "text": [
      "Enter txt : Hello World\n",
      "vowels 3\n",
      "consonents 8\n"
     ]
    }
   ],
   "source": [
    "str = input(\"Enter txt : \")\n",
    "vowels = 0\n",
    "consonents = 0\n",
    "\n",
    "for i in str:\n",
    "    if (i == 'a' or i == 'e' or i == 'i' or i == 'o' or i == 'u'\n",
    "       or i == 'A' or i == 'E' or i == 'I' or i == 'O' or i == 'U'):\n",
    "        vowels = vowels + 1\n",
    "    else:\n",
    "            consonents = consonents + 1\n",
    "            \n",
    "print(\"vowels\",vowels)\n",
    "print(\"consonents\",consonents)"
   ]
  },
  {
   "cell_type": "code",
   "execution_count": 13,
   "metadata": {},
   "outputs": [],
   "source": [
    "#binary to decimal"
   ]
  },
  {
   "cell_type": "code",
   "execution_count": 14,
   "metadata": {},
   "outputs": [
    {
     "name": "stdout",
     "output_type": "stream",
     "text": [
      "Enter a binary Number: 1101\n",
      "Decimal representation of 1101 is: 13\n"
     ]
    }
   ],
   "source": [
    "a = input(\"Enter a binary Number: \")\n",
    "dec = (int(a, 2))\n",
    "print(f\"Decimal representation of {a} is: {dec}\")"
   ]
  },
  {
   "cell_type": "code",
   "execution_count": 15,
   "metadata": {},
   "outputs": [
    {
     "name": "stdout",
     "output_type": "stream",
     "text": [
      "Enter a binary Number: 1001\n",
      "Decimal representation of 1001 is: 9\n"
     ]
    }
   ],
   "source": [
    "a = input(\"Enter a binary Number: \")\n",
    "dec = (int(a, 2))\n",
    "print(f\"Decimal representation of {a} is: {dec}\""
   ]
  },
  {
   "cell_type": "code",
   "execution_count": 16,
   "metadata": {},
   "outputs": [],
   "source": [
    "#count aplhabets,num,special chr"
   ]
  },
  {
   "cell_type": "code",
   "execution_count": 25,
   "metadata": {},
   "outputs": [
    {
     "name": "stdout",
     "output_type": "stream",
     "text": [
      "Enter Text: Hello World 1234\n",
      "Numbers:   4\n",
      "Alphabets 10\n",
      "Special Characters 0\n",
      "Spaces:  2\n"
     ]
    }
   ],
   "source": [
    "string = input(\"Enter Text: \")\n",
    "alphabets = digits = special = spaces = 0\n",
    "\n",
    "for i in range(len(string)):\n",
    "    if(string[i].isalpha()):\n",
    "        alphabets = alphabets + 1\n",
    "    elif(string[i].isdigit()):\n",
    "        digits = digits + 1\n",
    "    elif(string[i].isspace()):\n",
    "        spaces = spaces+1\n",
    "    else:\n",
    "        special = special + 1\n",
    "        \n",
    "print(\"Numbers:  \", digits)\n",
    "print(\"Alphabets\", alphabets)\n",
    "print(\"Special Characters\", special)\n",
    "print(\"Spaces: \", spaces)"
   ]
  },
  {
   "cell_type": "code",
   "execution_count": null,
   "metadata": {},
   "outputs": [],
   "source": [
    "#prgrm to construct following pattern"
   ]
  },
  {
   "cell_type": "code",
   "execution_count": 36,
   "metadata": {},
   "outputs": [
    {
     "name": "stdout",
     "output_type": "stream",
     "text": [
      "* \r\n",
      "* * \r\n",
      "* * * \r\n",
      "* * * * \r\n",
      "* * * * * \r\n",
      "* * * * \r\n",
      "* * * \r\n",
      "* * \r\n",
      "* \r\n",
      "\r\n"
     ]
    }
   ],
   "source": [
    "rows = 5\n",
    "\n",
    "for i in range(0,rows):\n",
    "    for j in range(0,i + 1):\n",
    "            print(\"*\",end = ' ')\n",
    "    print(\"\\r\")\n",
    "    \n",
    "\n",
    "for i in range (rows, 0, -1):\n",
    "    for j in range(0, i -1):\n",
    "        print(\"*\", end=' ')\n",
    "    print(\"\\r\")\n"
   ]
  },
  {
   "cell_type": "code",
   "execution_count": null,
   "metadata": {},
   "outputs": [],
   "source": [
    "#prgrm to construct following pattern"
   ]
  },
  {
   "cell_type": "code",
   "execution_count": 37,
   "metadata": {},
   "outputs": [
    {
     "name": "stdout",
     "output_type": "stream",
     "text": [
      "1 \r\n",
      "1 2 \r\n",
      "1 2 3 \r\n",
      "1 2 3 4 \r\n",
      "1 2 3 4 5 \r\n",
      "1 2 3 4 \r\n",
      "1 2 3 \r\n",
      "1 2 \r\n",
      "1 \r\n"
     ]
    }
   ],
   "source": [
    "rows = 5\n",
    "\n",
    "for i in range (1, rows+1):\n",
    "    for j in range(1, i + 1):\n",
    "        print(j, end=' ')\n",
    "    print(\"\\r\")\n",
    "\n",
    "for i in range (rows, 1,-1):\n",
    "    for j in range(1, i):\n",
    "        print(j, end=' ')\n",
    "    print(\"\\r\")"
   ]
  },
  {
   "cell_type": "code",
   "execution_count": 38,
   "metadata": {},
   "outputs": [],
   "source": [
    "#prgrm to construct following pattern"
   ]
  },
  {
   "cell_type": "code",
   "execution_count": 41,
   "metadata": {},
   "outputs": [
    {
     "name": "stdout",
     "output_type": "stream",
     "text": [
      "\n",
      "1\n",
      "22\n",
      "333\n",
      "4444\n",
      "55555\n",
      "666666\n",
      "7777777\n",
      "88888888\n",
      "999999999\n"
     ]
    }
   ],
   "source": [
    "for num in range(10):\n",
    "    for i in range(num):\n",
    "        print (num, end=\"\") \n",
    "   \n",
    "    print(\"\")"
   ]
  },
  {
   "cell_type": "code",
   "execution_count": null,
   "metadata": {},
   "outputs": [],
   "source": []
  }
 ],
 "metadata": {
  "kernelspec": {
   "display_name": "Python 3",
   "language": "python",
   "name": "python3"
  },
  "language_info": {
   "codemirror_mode": {
    "name": "ipython",
    "version": 3
   },
   "file_extension": ".py",
   "mimetype": "text/x-python",
   "name": "python",
   "nbconvert_exporter": "python",
   "pygments_lexer": "ipython3",
   "version": "3.7.4"
  }
 },
 "nbformat": 4,
 "nbformat_minor": 2
}
